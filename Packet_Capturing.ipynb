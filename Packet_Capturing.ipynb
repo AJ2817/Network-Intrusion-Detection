{
  "nbformat": 4,
  "nbformat_minor": 0,
  "metadata": {
    "colab": {
      "provenance": []
    },
    "kernelspec": {
      "name": "python3",
      "display_name": "Python 3"
    },
    "language_info": {
      "name": "python"
    }
  },
  "cells": [
    {
      "cell_type": "code",
      "execution_count": null,
      "metadata": {
        "colab": {
          "base_uri": "https://localhost:8080/"
        },
        "id": "xUigYWw50ySp",
        "outputId": "90aebc4f-519c-4038-c4b1-ed45ebaa5109"
      },
      "outputs": [
        {
          "output_type": "stream",
          "name": "stdout",
          "text": [
            "Collecting scapy\n",
            "  Downloading scapy-2.6.1-py3-none-any.whl.metadata (5.6 kB)\n",
            "Downloading scapy-2.6.1-py3-none-any.whl (2.4 MB)\n",
            "\u001b[2K   \u001b[90m━━━━━━━━━━━━━━━━━━━━━━━━━━━━━━━━━━━━━━━━\u001b[0m \u001b[32m2.4/2.4 MB\u001b[0m \u001b[31m16.6 MB/s\u001b[0m eta \u001b[36m0:00:00\u001b[0m\n",
            "\u001b[?25hInstalling collected packages: scapy\n",
            "Successfully installed scapy-2.6.1\n"
          ]
        }
      ],
      "source": [
        "!pip install scapy"
      ]
    },
    {
      "cell_type": "code",
      "source": [
        "from scapy.all import sniff, IP, TCP\n",
        "from collections import defaultdict\n",
        "import threading\n",
        "import queue"
      ],
      "metadata": {
        "id": "Z2TbL9KF1D90"
      },
      "execution_count": null,
      "outputs": []
    },
    {
      "cell_type": "code",
      "source": [
        "class PacketCapture:\n",
        "    def __init__(self):\n",
        "        self.packet_queue = queue.Queue()\n",
        "        self.stop_capture = threading.Event()\n",
        "\n",
        "    def packet_callback(self, packet):\n",
        "        if IP in packet and TCP in packet:\n",
        "            self.packet_queue.put(packet)\n",
        "\n",
        "    def start_capture(self, interface=\"eth0\"):\n",
        "        def capture_thread():\n",
        "            sniff(iface=interface,\n",
        "                  prn=self.packet_callback,\n",
        "                  store=0,\n",
        "                  stop_filter=lambda _: self.stop_capture.is_set())\n",
        "\n",
        "        self.capture_thread = threading.Thread(target=capture_thread)\n",
        "        self.capture_thread.start()\n",
        "\n",
        "    def stop(self):\n",
        "        self.stop_capture.set()\n",
        "        self.capture_thread.join()"
      ],
      "metadata": {
        "id": "J2FptBvP1PAQ"
      },
      "execution_count": null,
      "outputs": []
    },
    {
      "cell_type": "code",
      "source": [
        "class TrafficAnalyzer:\n",
        "    def __init__(self):\n",
        "        self.connections = defaultdict(list)\n",
        "        self.flow_stats = defaultdict(lambda: {\n",
        "            'packet_count': 0,\n",
        "            'byte_count': 0,\n",
        "            'start_time': None,\n",
        "            'last_time': None\n",
        "        })\n",
        "\n",
        "    def analyze_packet(self, packet):\n",
        "        if IP in packet and TCP in packet:\n",
        "            ip_src = packet[IP].src\n",
        "            ip_dst = packet[IP].dst\n",
        "            port_src = packet[TCP].sport\n",
        "            port_dst = packet[TCP].dport\n",
        "\n",
        "            flow_key = (ip_src, ip_dst, port_src, port_dst)\n",
        "\n",
        "            # Update flow statistics\n",
        "            stats = self.flow_stats[flow_key]\n",
        "            stats['packet_count'] += 1\n",
        "            stats['byte_count'] += len(packet)\n",
        "            current_time = packet.time\n",
        "\n",
        "            if not stats['start_time']:\n",
        "                stats['start_time'] = current_time\n",
        "            stats['last_time'] = current_time\n",
        "\n",
        "            return self.extract_features(packet, stats)\n",
        "\n",
        "    def extract_features(self, packet, stats):\n",
        "        return {\n",
        "            'packet_size': len(packet),\n",
        "            'flow_duration': stats['last_time'] - stats['start_time'],\n",
        "            'packet_rate': stats['packet_count'] / (stats['last_time'] - stats['start_time']),\n",
        "            'byte_rate': stats['byte_count'] / (stats['last_time'] - stats['start_time']),\n",
        "            'tcp_flags': packet[TCP].flags,\n",
        "            'window_size': packet[TCP].window\n",
        "        }"
      ],
      "metadata": {
        "id": "N6UYIuor1Z3k"
      },
      "execution_count": null,
      "outputs": []
    }
  ]
}